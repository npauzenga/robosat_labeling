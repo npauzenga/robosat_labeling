{
 "cells": [
  {
   "cell_type": "code",
   "execution_count": 72,
   "metadata": {
    "scrolled": true
   },
   "outputs": [
    {
     "name": "stdout",
     "output_type": "stream",
     "text": [
      "Cloning into 'robosat'...\n",
      "remote: Enumerating objects: 10, done.\u001b[K\n",
      "remote: Counting objects: 100% (10/10), done.\u001b[K\n",
      "remote: Compressing objects: 100% (10/10), done.\u001b[K\n",
      "remote: Total 707 (delta 2), reused 0 (delta 0), pack-reused 697\u001b[K\n",
      "Receiving objects: 100% (707/707), 1.23 MiB | 7.47 MiB/s, done.\n",
      "Resolving deltas: 100% (435/435), done.\n"
     ]
    }
   ],
   "source": [
    "!git clone https://github.com/mapbox/robosat.git"
   ]
  },
  {
   "cell_type": "code",
   "execution_count": 73,
   "metadata": {},
   "outputs": [
    {
     "name": "stdout",
     "output_type": "stream",
     "text": [
      "Requirement already satisfied: torch in /usr/local/lib/python3.7/site-packages (0.4.1)\r\n"
     ]
    }
   ],
   "source": [
    "!python3 -m pip install torch"
   ]
  },
  {
   "cell_type": "code",
   "execution_count": 109,
   "metadata": {},
   "outputs": [
    {
     "name": "stdout",
     "output_type": "stream",
     "text": [
      "Requirement already up-to-date: pip in /usr/local/lib/python3.7/site-packages (18.1)\r\n"
     ]
    }
   ],
   "source": [
    "!python3 -m pip install --upgrade pip\n"
   ]
  },
  {
   "cell_type": "code",
   "execution_count": 117,
   "metadata": {
    "scrolled": true
   },
   "outputs": [
    {
     "name": "stdout",
     "output_type": "stream",
     "text": [
      "Collecting affine==2.2.1 (from -r robosat/deps/requirements-lock.txt (line 1))\n",
      "  Using cached https://files.pythonhosted.org/packages/6b/5d/23bf1095d39da067de3dc8d3fdda2c043023cce63285ccfc907a157019a4/affine-2.2.1-py2.py3-none-any.whl\n",
      "Collecting atomicwrites==1.1.5 (from -r robosat/deps/requirements-lock.txt (line 2))\n",
      "  Using cached https://files.pythonhosted.org/packages/0a/e8/cd6375e7a59664eeea9e1c77a766eeac0fc3083bb958c2b41ec46b95f29c/atomicwrites-1.1.5-py2.py3-none-any.whl\n",
      "Collecting attrs==18.1.0 (from -r robosat/deps/requirements-lock.txt (line 3))\n",
      "  Using cached https://files.pythonhosted.org/packages/41/59/cedf87e91ed541be7957c501a92102f9cc6363c623a7666d69d51c78ac5b/attrs-18.1.0-py2.py3-none-any.whl\n",
      "Collecting certifi==2018.4.16 (from -r robosat/deps/requirements-lock.txt (line 4))\n",
      "  Using cached https://files.pythonhosted.org/packages/7c/e6/92ad559b7192d846975fc916b65f667c7b8c3a32bea7372340bfe9a15fa5/certifi-2018.4.16-py2.py3-none-any.whl\n",
      "Collecting chardet==3.0.4 (from -r robosat/deps/requirements-lock.txt (line 5))\n",
      "  Using cached https://files.pythonhosted.org/packages/bc/a9/01ffebfb562e4274b6487b4bb1ddec7ca55ec7510b22e4c51f14098443b8/chardet-3.0.4-py2.py3-none-any.whl\n",
      "Collecting click==6.7 (from -r robosat/deps/requirements-lock.txt (line 6))\n",
      "  Using cached https://files.pythonhosted.org/packages/34/c1/8806f99713ddb993c5366c362b2f908f18269f8d792aff1abfd700775a77/click-6.7-py2.py3-none-any.whl\n",
      "Collecting click-plugins==1.0.3 (from -r robosat/deps/requirements-lock.txt (line 7))\n",
      "Collecting cligj==0.4.0 (from -r robosat/deps/requirements-lock.txt (line 8))\n",
      "  Using cached https://files.pythonhosted.org/packages/fc/05/e8384e1f7c8689cd1b91818a24cc860077c73368fb285ba53fbd8556ec98/cligj-0.4.0-py3-none-any.whl\n",
      "Collecting cycler==0.10.0 (from -r robosat/deps/requirements-lock.txt (line 9))\n",
      "  Using cached https://files.pythonhosted.org/packages/f7/d2/e07d3ebb2bd7af696440ce7e754c59dd546ffe1bbe732c8ab68b9c834e61/cycler-0.10.0-py2.py3-none-any.whl\n",
      "Collecting Flask==1.0.2 (from -r robosat/deps/requirements-lock.txt (line 10))\n",
      "  Using cached https://files.pythonhosted.org/packages/7f/e7/08578774ed4536d3242b14dacb4696386634607af824ea997202cd0edb4b/Flask-1.0.2-py2.py3-none-any.whl\n",
      "Collecting geojson==2.4.0 (from -r robosat/deps/requirements-lock.txt (line 11))\n",
      "  Using cached https://files.pythonhosted.org/packages/8d/39/231105abbfd2332f108cdbfe736e56324949fa9e80e536ae60a082cf96a9/geojson-2.4.0-py2.py3-none-any.whl\n",
      "Collecting idna==2.6 (from -r robosat/deps/requirements-lock.txt (line 12))\n",
      "  Using cached https://files.pythonhosted.org/packages/27/cc/6dd9a3869f15c2edfab863b992838277279ce92663d334df9ecf5106f5c6/idna-2.6-py2.py3-none-any.whl\n",
      "Collecting itsdangerous==0.24 (from -r robosat/deps/requirements-lock.txt (line 13))\n",
      "  Using cached https://files.pythonhosted.org/packages/dc/b4/a60bcdba945c00f6d608d8975131ab3f25b22f2bcfe1dab221165194b2d4/itsdangerous-0.24.tar.gz\n",
      "Requirement already satisfied: Jinja2==2.10 in /usr/local/lib/python3.7/site-packages (from -r robosat/deps/requirements-lock.txt (line 14)) (2.10)\n",
      "Collecting kiwisolver==1.0.1 (from -r robosat/deps/requirements-lock.txt (line 15))\n",
      "  Using cached https://files.pythonhosted.org/packages/68/f2/21ec13269a420c063a3d7d8c87dac030da7b00fc6b27fa88cfb1c72a645b/kiwisolver-1.0.1-cp37-cp37m-macosx_10_6_intel.macosx_10_9_intel.macosx_10_9_x86_64.macosx_10_10_intel.macosx_10_10_x86_64.whl\n",
      "Requirement already satisfied: MarkupSafe==1.0 in /usr/local/lib/python3.7/site-packages (from -r robosat/deps/requirements-lock.txt (line 16)) (1.0)\n",
      "Collecting matplotlib==2.2.2 (from -r robosat/deps/requirements-lock.txt (line 17))\n",
      "  Using cached https://files.pythonhosted.org/packages/3d/62/32659064048defd054dfd795d94323f62d2e265f9d559c822d666fb23be5/matplotlib-2.2.2-cp37-cp37m-macosx_10_6_intel.macosx_10_9_intel.macosx_10_9_x86_64.macosx_10_10_intel.macosx_10_10_x86_64.whl\n",
      "Requirement already satisfied: mercantile==1.0.4 in /usr/local/lib/python3.7/site-packages (from -r robosat/deps/requirements-lock.txt (line 18)) (1.0.4)\n",
      "Collecting more-itertools==4.2.0 (from -r robosat/deps/requirements-lock.txt (line 19))\n",
      "  Using cached https://files.pythonhosted.org/packages/85/40/90c3b0393e12b9827381004224de8814686e3d7182f9d4182477f600826d/more_itertools-4.2.0-py3-none-any.whl\n",
      "Collecting numpy==1.14.4 (from -r robosat/deps/requirements-lock.txt (line 20))\n",
      "  Using cached https://files.pythonhosted.org/packages/94/b8/09db804ddf3bb7b50767544ec8e559695b152cedd64830040a0f31d6aeda/numpy-1.14.4.zip\n",
      "Collecting opencv-contrib-python==3.4.1.15 (from -r robosat/deps/requirements-lock.txt (line 21))\n",
      "\u001b[31m  Could not find a version that satisfies the requirement opencv-contrib-python==3.4.1.15 (from -r robosat/deps/requirements-lock.txt (line 21)) (from versions: 3.4.2.16, 3.4.2.17, 3.4.3.18)\u001b[0m\n",
      "\u001b[31mNo matching distribution found for opencv-contrib-python==3.4.1.15 (from -r robosat/deps/requirements-lock.txt (line 21))\u001b[0m\n"
     ]
    }
   ],
   "source": [
    "!python3 -m pip install -r robosat/deps/requirements-lock.txt"
   ]
  },
  {
   "cell_type": "code",
   "execution_count": 103,
   "metadata": {},
   "outputs": [
    {
     "name": "stdout",
     "output_type": "stream",
     "text": [
      "/usr/local/opt/python/bin/python3.7: No module named robosat.tools\r\n"
     ]
    }
   ],
   "source": [
    "!./robosat/rs --help"
   ]
  },
  {
   "cell_type": "code",
   "execution_count": null,
   "metadata": {},
   "outputs": [],
   "source": []
  }
 ],
 "metadata": {
  "kernelspec": {
   "display_name": "Python 3",
   "language": "python",
   "name": "python3"
  },
  "language_info": {
   "codemirror_mode": {
    "name": "ipython",
    "version": 3
   },
   "file_extension": ".py",
   "mimetype": "text/x-python",
   "name": "python",
   "nbconvert_exporter": "python",
   "pygments_lexer": "ipython3",
   "version": "3.7.0"
  }
 },
 "nbformat": 4,
 "nbformat_minor": 2
}
